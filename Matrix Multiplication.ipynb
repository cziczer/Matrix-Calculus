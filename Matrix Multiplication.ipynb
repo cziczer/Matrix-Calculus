{
 "cells": [
  {
   "cell_type": "code",
   "execution_count": 1,
   "metadata": {},
   "outputs": [
    {
     "name": "stdout",
     "output_type": "stream",
     "text": [
      "Requirement already satisfied: numpy in /home/jasiek/Desktop/Macierzowe/matrix_analysis/venv/lib/python3.8/site-packages (1.22.3)\n",
      "Collecting matplotlib\n",
      "  Using cached matplotlib-3.5.1-cp38-cp38-manylinux_2_5_x86_64.manylinux1_x86_64.whl (11.3 MB)\n",
      "Collecting cycler>=0.10\n",
      "  Using cached cycler-0.11.0-py3-none-any.whl (6.4 kB)\n",
      "Requirement already satisfied: packaging>=20.0 in /home/jasiek/Desktop/Macierzowe/matrix_analysis/venv/lib/python3.8/site-packages (from matplotlib) (21.3)\n",
      "Collecting fonttools>=4.22.0\n",
      "  Using cached fonttools-4.30.0-py3-none-any.whl (898 kB)\n",
      "Requirement already satisfied: python-dateutil>=2.7 in /home/jasiek/Desktop/Macierzowe/matrix_analysis/venv/lib/python3.8/site-packages (from matplotlib) (2.8.2)\n",
      "Collecting kiwisolver>=1.0.1\n",
      "  Using cached kiwisolver-1.3.2-cp38-cp38-manylinux_2_5_x86_64.manylinux1_x86_64.whl (1.2 MB)\n",
      "Collecting pillow>=6.2.0\n",
      "  Using cached Pillow-9.0.1-cp38-cp38-manylinux_2_17_x86_64.manylinux2014_x86_64.whl (4.3 MB)\n",
      "Requirement already satisfied: pyparsing>=2.2.1 in /home/jasiek/Desktop/Macierzowe/matrix_analysis/venv/lib/python3.8/site-packages (from matplotlib) (3.0.7)\n",
      "Requirement already satisfied: six>=1.5 in /home/jasiek/Desktop/Macierzowe/matrix_analysis/venv/lib/python3.8/site-packages (from python-dateutil>=2.7->matplotlib) (1.16.0)\n",
      "Installing collected packages: pillow, kiwisolver, fonttools, cycler, matplotlib\n",
      "Successfully installed cycler-0.11.0 fonttools-4.30.0 kiwisolver-1.3.2 matplotlib-3.5.1 pillow-9.0.1\n"
     ]
    }
   ],
   "source": [
    "!pip3 install numpy matplotlib"
   ]
  },
  {
   "cell_type": "code",
   "execution_count": 2,
   "metadata": {
    "pycharm": {
     "name": "#%%\n"
    }
   },
   "outputs": [],
   "source": [
    "# Recursive code for Matrix Multiplication\n",
    "MAX = 300\n",
    "i = 0\n",
    "j = 0\n",
    "k = 0"
   ]
  },
  {
   "cell_type": "code",
   "execution_count": 3,
   "metadata": {},
   "outputs": [],
   "source": [
    "import numpy as np\n",
    "\n",
    "\n",
    "class MatrixMultiplicator():\n",
    "    def __init__(self):\n",
    "        self.float_point_operation = 0\n",
    "\n",
    "                \n",
    "    def multiply(self, A, B, C):\n",
    "        n = C.shape[0]\n",
    "        \n",
    "        for i in range(n):\n",
    "            for j in range(n):\n",
    "                for k in range(n):\n",
    "                    C[i][j] += A[i][k]*B[k][j]\n",
    "        return C\n",
    "        \n",
    "        \n",
    "    def split(self, matrix):\n",
    "        \"\"\"\n",
    "        Splits a given matrix into quarters.\n",
    "        Input: nxn matrix\n",
    "        Output: tuple containing 4 n/2 x n/2 matrices corresponding to a, b, c, d\n",
    "        \"\"\"\n",
    "        row, col = matrix.shape\n",
    "        row2, col2 = row//2, col//2\n",
    "        return matrix[:row2, :col2], matrix[:row2, col2:], matrix[row2:, :col2], matrix[row2:, col2:]\n",
    "\n",
    "    \n",
    "    def strassen(self, x, y, l=2):\n",
    "        \"\"\"\n",
    "        Computes matrix product by divide and conquer approach, recursively.\n",
    "        \"\"\"\n",
    "\n",
    "        # switch to multiplyMatrix\n",
    "        if x.shape[0] <= 2**l:\n",
    "            C = np.zeros((x.shape[0],x.shape[0]))\n",
    "            return self.multiply(x, y, C)\n",
    "\n",
    "        # Splitting the matrices into quadrants. This will be done recursively\n",
    "        # until the base case is reached.\n",
    "        a, b, c, d = self.split(x)\n",
    "        e, f, g, h = self.split(y)\n",
    "\n",
    "        # Computing the 7 products, recursively (p1, p2...p7)\n",
    "        p1 = self.strassen(a, f - h) \n",
    "        p2 = self.strassen(a + b, h)       \n",
    "        p3 = self.strassen(c + d, e)       \n",
    "        p4 = self.strassen(d, g - e)       \n",
    "        p5 = self.strassen(a + d, e + h)       \n",
    "        p6 = self.strassen(b - d, g + h) \n",
    "        p7 = self.strassen(a - c, e + f) \n",
    "\n",
    "        # Computing the values of the 4 quadrants of the final matrix c\n",
    "        c11 = p5 + p4 - p2 + p6 \n",
    "        c12 = p1 + p2          \n",
    "        c21 = p3 + p4           \n",
    "        c22 = p1 + p5 - p3 - p7 \n",
    "        self.float_point_operation += p1.shape[0] * 8 #8 +/ - operations\n",
    "\n",
    "        # Combining the 4 quadrants into a single matrix by stacking horizontally and vertically.\n",
    "        c = np.vstack((np.hstack((c11, c12)), np.hstack((c21, c22))))\n",
    "\n",
    "        return c\n",
    "    "
   ]
  },
  {
   "cell_type": "code",
   "execution_count": 4,
   "metadata": {},
   "outputs": [],
   "source": [
    "import time\n",
    "max_k = 8\n",
    "l = 0 # < max_k\n",
    "\n",
    "time_results = [] \n",
    "operation_results = [] \n",
    "\n",
    "for k in range(l, max_k):\n",
    "    a = np.random.randint(0, 200, size=(2**k, 2**k))\n",
    "    b = np.random.randint(0, 200, size=(2**k, 2**k))\n",
    "    matrix_multiplicator = MatrixMultiplicator()\n",
    "    start_time = time.time()\n",
    "    matrix_multiplicator.strassen(a, b)\n",
    "    time_results.append(time.time() - start_time)\n",
    "    operation_results.append(matrix_multiplicator.float_point_operation)"
   ]
  },
  {
   "cell_type": "code",
   "execution_count": 5,
   "metadata": {},
   "outputs": [
    {
     "data": {
      "image/png": "[encoded data removed]",
      "text/plain": [
       "<Figure size 432x288 with 1 Axes>"
      ]
     },
     "metadata": {
      "needs_background": "light"
     },
     "output_type": "display_data"
    }
   ],
   "source": [
    "import matplotlib.pyplot as plt\n",
    "    \n",
    "plt.plot(list(range(1, max_k+1-l)), time_results)\n",
    "plt.title(f\"Time / matrix size plot for l = {l}\")\n",
    "plt.ylabel('Time (s)')\n",
    "plt.xlabel('2**K size')\n",
    "plt.show()"
   ]
  },
  {
   "cell_type": "code",
   "execution_count": 6,
   "metadata": {},
   "outputs": [
    {
     "data": {
      "image/png": "[encoded data removed]",
      "text/plain": [
       "<Figure size 432x288 with 1 Axes>"
      ]
     },
     "metadata": {
      "needs_background": "light"
     },
     "output_type": "display_data"
    }
   ],
   "source": [
    "plt.plot(list(range(1, max_k+1-l)), operation_results)\n",
    "plt.title(f\"# of operations / matrix size plot for l = {l}\")\n",
    "plt.ylabel('# of operations')\n",
    "plt.xlabel('2**K size')\n",
    "plt.show()"
   ]
  },
  {
   "cell_type": "code",
   "execution_count": null,
   "metadata": {},
   "outputs": [],
   "source": []
  }
 ],
 "metadata": {
  "kernelspec": {
   "display_name": "Python 3 (ipykernel)",
   "language": "python",
   "name": "python3"
  },
  "language_info": {
   "codemirror_mode": {
    "name": "ipython",
    "version": 3
   },
   "file_extension": ".py",
   "mimetype": "text/x-python",
   "name": "python",
   "nbconvert_exporter": "python",
   "pygments_lexer": "ipython3",
   "version": "3.8.10"
  }
 },
 "nbformat": 4,
 "nbformat_minor": 1
}