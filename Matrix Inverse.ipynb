{
 "cells": [
  {
   "cell_type": "code",
   "execution_count": 1,
   "metadata": {},
   "outputs": [],
   "source": [
    "# Recursive code for Matrix Multiplication\n",
    "MAX = 300\n",
    "i = 0\n",
    "j = 0\n",
    "k = 0\n"
   ]
  },
  {
   "cell_type": "code",
   "execution_count": 2,
   "metadata": {},
   "outputs": [],
   "source": [
    "import numpy as np\n",
    "\n",
    "\n",
    "class MatrixInverse():\n",
    "    def __init__(self):\n",
    "        self.float_point_operation = 0\n",
    "\n",
    "                \n",
    "    def multiply(self, A, B, C):\n",
    "        n = C.shape[0]\n",
    "        \n",
    "        for i in range(n):\n",
    "            for j in range(n):\n",
    "                for k in range(n):\n",
    "                    C[i][j] += A[i][k]*B[k][j]\n",
    "                    self.float_point_operation += 1\n",
    "        return C\n",
    "        \n",
    "        \n",
    "    def split(self, matrix):\n",
    "        \"\"\"\n",
    "        Splits a given matrix into quarters.\n",
    "        Input: nxn matrix\n",
    "        Output: tuple containing 4 n/2 x n/2 matrices corresponding to a, b, c, d\n",
    "        \"\"\"\n",
    "        row, col = matrix.shape\n",
    "        row2, col2 = row//2, col//2\n",
    "        return matrix[:row2, :col2], matrix[:row2, col2:], matrix[row2:, :col2], matrix[row2:, col2:]\n",
    "\n",
    "    \n",
    "    def strassen(self, x, y, l=2):\n",
    "        \"\"\"\n",
    "        Computes matrix product by divide and conquer approach, recursively.\n",
    "        \"\"\"\n",
    "\n",
    "        # switch to multiplyMatrix\n",
    "        if x.shape[0] <= 2**l:\n",
    "            C = np.zeros((x.shape[0],x.shape[0]))\n",
    "            return self.multiply(x, y, C)\n",
    "\n",
    "        # Splitting the matrices into quadrants. This will be done recursively\n",
    "        # until the base case is reached.\n",
    "        a, b, c, d = self.split(x)\n",
    "        e, f, g, h = self.split(y)\n",
    "\n",
    "        # Computing the 7 products, recursively (p1, p2...p7)\n",
    "        p1 = self.strassen(a, f - h, l) \n",
    "        p2 = self.strassen(a + b, h, l)       \n",
    "        p3 = self.strassen(c + d, e, l)       \n",
    "        p4 = self.strassen(d, g - e, l)       \n",
    "        p5 = self.strassen(a + d, e + h, l)       \n",
    "        p6 = self.strassen(b - d, g + h, l) \n",
    "        p7 = self.strassen(a - c, e + f, l) \n",
    "\n",
    "        # Computing the values of the 4 quadrants of the final matrix c\n",
    "        c11 = p5 + p4 - p2 + p6 \n",
    "        c12 = p1 + p2          \n",
    "        c21 = p3 + p4           \n",
    "        c22 = p1 + p5 - p3 - p7 \n",
    "        self.float_point_operation += p1.shape[0]**2 * 8 #8 +/ - operations\n",
    "\n",
    "        # Combining the 4 quadrants into a single matrix by stacking horizontally and vertically.\n",
    "        c = np.vstack((np.hstack((c11, c12)), np.hstack((c21, c22))))\n",
    "\n",
    "        return c\n",
    "    \n",
    "    def inverse(self, a, l):\n",
    "        if a.shape[0] == 1:\n",
    "            return a\n",
    "        \n",
    "        a11, a12, a21, a22 = self.split(a)\n",
    "        a11_inverse = self.inverse(a11, l)\n",
    "        s22 = a22 - self.strassen(self.strassen(a21, a11_inverse, l), a12, l)\n",
    "        s22_inverse = self.inverse(s22, l)\n",
    "        new_a11 = a11_inverse + self.strassen(self.strassen(-a11_inverse, a12, l), s22_inverse, l)\n",
    "        new_a12 = self.strassen(self.strassen(self.strassen(self.strassen(a11_inverse, a12, l), s22_inverse, l), a21, l), a11_inverse, l)\n",
    "        new_a21 = self.strassen(self.strassen(-s22_inverse, a21, l), a11_inverse, l)\n",
    "        new_a22 = s22_inverse\n",
    "        self.float_point_operation += 2 * a11.shape[0]** 2 #to caluclate s22 and new_a11\n",
    "        b = np.vstack((np.hstack((new_a11, new_a12)), np.hstack((new_a21, new_a22))))\n",
    "\n",
    "        return b"
   ]
  },
  {
   "cell_type": "code",
   "execution_count": 3,
   "metadata": {
    "pycharm": {
     "name": "#%%\n"
    }
   },
   "outputs": [
    {
     "name": "stderr",
     "output_type": "stream",
     "text": [
      "<ipython-input-2-33a95f8a0262>:15: RuntimeWarning: overflow encountered in double_scalars\n",
      "  C[i][j] += A[i][k]*B[k][j]\n",
      "<ipython-input-2-33a95f8a0262>:47: RuntimeWarning: invalid value encountered in subtract\n",
      "  p1 = self.strassen(a, f - h, l)\n",
      "<ipython-input-2-33a95f8a0262>:50: RuntimeWarning: invalid value encountered in subtract\n",
      "  p4 = self.strassen(d, g - e, l)\n",
      "<ipython-input-2-33a95f8a0262>:51: RuntimeWarning: invalid value encountered in add\n",
      "  p5 = self.strassen(a + d, e + h, l)\n",
      "<ipython-input-2-33a95f8a0262>:52: RuntimeWarning: invalid value encountered in add\n",
      "  p6 = self.strassen(b - d, g + h, l)\n",
      "<ipython-input-2-33a95f8a0262>:53: RuntimeWarning: invalid value encountered in add\n",
      "  p7 = self.strassen(a - c, e + f, l)\n",
      "<ipython-input-2-33a95f8a0262>:48: RuntimeWarning: invalid value encountered in add\n",
      "  p2 = self.strassen(a + b, h, l)\n",
      "<ipython-input-2-33a95f8a0262>:49: RuntimeWarning: invalid value encountered in add\n",
      "  p3 = self.strassen(c + d, e, l)\n",
      "<ipython-input-2-33a95f8a0262>:52: RuntimeWarning: invalid value encountered in subtract\n",
      "  p6 = self.strassen(b - d, g + h, l)\n",
      "<ipython-input-2-33a95f8a0262>:53: RuntimeWarning: invalid value encountered in subtract\n",
      "  p7 = self.strassen(a - c, e + f, l)\n"
     ]
    }
   ],
   "source": [
    "import time\n",
    "max_k = 8\n",
    "l = 0 # < max_k\n",
    "\n",
    "time_results = [] \n",
    "operation_results = [] \n",
    "\n",
    "for k in range(l, max_k):\n",
    "    a = np.random.randint(1000, 2000, size=(2**k, 2**k))\n",
    "    matrix_inverse = MatrixInverse()\n",
    "    start_time = time.time()\n",
    "    b = matrix_inverse.inverse(a, l)\n",
    "    time_results.append(time.time() - start_time)\n",
    "    operation_results.append(matrix_inverse.float_point_operation)"
   ]
  },
  {
   "cell_type": "code",
   "execution_count": 4,
   "metadata": {
    "pycharm": {
     "name": "#%%\n"
    }
   },
   "outputs": [
    {
     "data": {
      "image/png": "[encoded data removed]",
      "text/plain": [
       "<Figure size 432x288 with 1 Axes>"
      ]
     },
     "metadata": {
      "needs_background": "light"
     },
     "output_type": "display_data"
    }
   ],
   "source": [
    "import matplotlib.pyplot as plt\n",
    "    \n",
    "plt.plot(list(range(1, max_k+1-l)), time_results)\n",
    "plt.title(f\"Time / matrix size plot for l = {l}\")\n",
    "plt.ylabel('Time (s)')\n",
    "plt.xlabel('2**K size')\n",
    "plt.show()"
   ]
  },
  {
   "cell_type": "code",
   "execution_count": 5,
   "metadata": {
    "pycharm": {
     "name": "#%%\n"
    }
   },
   "outputs": [
    {
     "data": {
      "image/png": "[encoded data removed]",
      "text/plain": [
       "<Figure size 432x288 with 1 Axes>"
      ]
     },
     "metadata": {
      "needs_background": "light"
     },
     "output_type": "display_data"
    }
   ],
   "source": [
    "plt.plot(list(range(1, max_k+1-l)), operation_results)\n",
    "plt.title(f\"# of operations / matrix size plot for l = {l}\")\n",
    "plt.ylabel('# of operations')\n",
    "plt.xlabel('2**K size')\n",
    "plt.show()"
   ]
  }
 ],
 "metadata": {
  "kernelspec": {
   "display_name": "Python 3",
   "language": "python",
   "name": "python3"
  },
  "language_info": {
   "codemirror_mode": {
    "name": "ipython",
    "version": 3
   },
   "file_extension": ".py",
   "mimetype": "text/x-python",
   "name": "python",
   "nbconvert_exporter": "python",
   "pygments_lexer": "ipython3",
   "version": "3.8.10"
  }
 },
 "nbformat": 4,
 "nbformat_minor": 4
}